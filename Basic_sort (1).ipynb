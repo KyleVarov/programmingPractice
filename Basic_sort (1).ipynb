{
  "nbformat": 4,
  "nbformat_minor": 0,
  "metadata": {
    "colab": {
      "name": "Basic_sort.ipynb",
      "provenance": [],
      "collapsed_sections": []
    },
    "kernelspec": {
      "name": "python3",
      "display_name": "Python 3"
    }
  },
  "cells": [
    {
      "cell_type": "code",
      "metadata": {
        "id": "d3_B6MVW9DL5",
        "colab_type": "code",
        "colab": {}
      },
      "source": [
        "def selection_sort(array):\n",
        "  for border in range(0, len(array)-1):\n",
        "    smallest = border\n",
        "    for pointer in range(border+1, len(array)):\n",
        "      if array[pointer] < array[smallest]:\n",
        "        smallest = pointer\n",
        "      \n",
        "    temp = array[border]\n",
        "    array[border] = array[smallest]\n",
        "    array[smallest] = temp\n",
        "    \n",
        "  return array\n",
        "  "
      ],
      "execution_count": 0,
      "outputs": []
    },
    {
      "cell_type": "code",
      "metadata": {
        "id": "2MIshbnC9r9w",
        "colab_type": "code",
        "colab": {}
      },
      "source": [
        "def bubble_sort(array):\n",
        "  for i in range(0, len(array)-1):\n",
        "    for j in range(0, len(array)-(i+1)):\n",
        "      if array[j] > array[j+1]:\n",
        "        temp = array[j]\n",
        "        array[j] = array[j+1]\n",
        "        array[j+1] = temp\n",
        "  \n",
        "  return array"
      ],
      "execution_count": 0,
      "outputs": []
    },
    {
      "cell_type": "code",
      "metadata": {
        "id": "qi0Sf_Nb9sHP",
        "colab_type": "code",
        "colab": {}
      },
      "source": [
        "def insertion_sort(array):\n",
        "  for i in range(1, len(array)):    # i is the border for dividing the sorted part with the unsorted part\n",
        "      sorted_tail = i-1\n",
        "      insert_element = i\n",
        "      while array[sorted_tail] > array[insert_element] and sorted_tail >=0:\n",
        "        temp = array[sorted_tail]\n",
        "        array[sorted_tail] = array[insert_element]\n",
        "        array[insert_element] = temp\n",
        "        sorted_tail -= 1\n",
        "        insert_element -= 1\n",
        "        \n",
        "  return array\n"
      ],
      "execution_count": 0,
      "outputs": []
    },
    {
      "cell_type": "code",
      "metadata": {
        "id": "3YnVfmgn92QQ",
        "colab_type": "code",
        "colab": {}
      },
      "source": [
        "unordered = [64, 25, 12, 22, 11]"
      ],
      "execution_count": 0,
      "outputs": []
    },
    {
      "cell_type": "code",
      "metadata": {
        "id": "LcE8tQTp9MZe",
        "colab_type": "code",
        "colab": {
          "base_uri": "https://localhost:8080/",
          "height": 51
        },
        "outputId": "c9d14a26-9576-48e0-f341-aa25e802e887"
      },
      "source": [
        "ordered = selection_sort(unordered.copy())\n",
        "print(\"[selection sort result]\")\n",
        "print(ordered)"
      ],
      "execution_count": 5,
      "outputs": [
        {
          "output_type": "stream",
          "text": [
            "[selection sort result]\n",
            "[11, 12, 22, 25, 64]\n"
          ],
          "name": "stdout"
        }
      ]
    },
    {
      "cell_type": "code",
      "metadata": {
        "id": "ZpkSBY3G95Q4",
        "colab_type": "code",
        "colab": {
          "base_uri": "https://localhost:8080/",
          "height": 51
        },
        "outputId": "7f104b00-072b-4bee-9b0e-e40427909b4f"
      },
      "source": [
        "ordered = bubble_sort(unordered.copy())\n",
        "print(\"[bubble sort result]\")\n",
        "ordered"
      ],
      "execution_count": 7,
      "outputs": [
        {
          "output_type": "stream",
          "text": [
            "[bubble sort result]\n"
          ],
          "name": "stdout"
        },
        {
          "output_type": "execute_result",
          "data": {
            "text/plain": [
              "[11, 12, 22, 25, 64]"
            ]
          },
          "metadata": {
            "tags": []
          },
          "execution_count": 7
        }
      ]
    },
    {
      "cell_type": "code",
      "metadata": {
        "id": "7rSnLFay99Zo",
        "colab_type": "code",
        "colab": {
          "base_uri": "https://localhost:8080/",
          "height": 51
        },
        "outputId": "eab1848e-a573-4b5c-cc61-f8aaf8351932"
      },
      "source": [
        "ordered = insertion_sort(unordered.copy())\n",
        "print(\"[insertion sort result]\")\n",
        "ordered"
      ],
      "execution_count": 9,
      "outputs": [
        {
          "output_type": "stream",
          "text": [
            "[insertion sort result]\n"
          ],
          "name": "stdout"
        },
        {
          "output_type": "execute_result",
          "data": {
            "text/plain": [
              "[11, 12, 22, 25, 64]"
            ]
          },
          "metadata": {
            "tags": []
          },
          "execution_count": 9
        }
      ]
    }
  ]
}